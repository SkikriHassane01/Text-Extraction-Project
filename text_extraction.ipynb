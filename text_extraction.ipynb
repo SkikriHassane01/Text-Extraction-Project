{
 "cells": [
  {
   "cell_type": "markdown",
   "metadata": {},
   "source": [
    "# Text Extraction Project"
   ]
  },
  {
   "cell_type": "markdown",
   "metadata": {},
   "source": [
    "## text extraction from webcam"
   ]
  },
  {
   "cell_type": "code",
   "execution_count": 1,
   "metadata": {},
   "outputs": [],
   "source": [
    "# import libraries\n",
    "import cv2\n",
    "from PIL import Image\n",
    "import pytesseract as ocr  # Optical Character Recognition (OCR)"
   ]
  },
  {
   "cell_type": "code",
   "execution_count": null,
   "metadata": {},
   "outputs": [],
   "source": [
    "# Initialize the camera\n",
    "camera = cv2.VideoCapture(0)\n",
    "\n",
    "# Check if the camera opened successfully\n",
    "if not camera.isOpened():\n",
    "    print(\"Error: Could not open camera.\")\n",
    "    exit()\n",
    "\n",
    "\n",
    "try:\n",
    "    while True:\n",
    "        # Capture frame-by-frame\n",
    "        ret, frame = camera.read()\n",
    "        # ret boolean variable that return true if the frame from the camera is read else false \n",
    "        # image is the frame\n",
    "        if not ret:\n",
    "            print(\"Error: Failed to capture image.\")\n",
    "            break\n",
    "\n",
    "        # step1: Convert Image to Grayscale\n",
    "        # Why Grayscale: OCR often works better on grayscale images because it simplifies the image, removing color information and focusing only on the intensity of light, which makes it easier to detect text.\n",
    "        gray = cv2.cvtColor(frame, cv2.COLOR_BGR2GRAY)\n",
    "\n",
    "        # step2: Apply Otsu's Binarization  to convert the grayscale image into a binary image (black and white).\n",
    "        _, thresholded = cv2.threshold(gray, 0, 255, cv2.THRESH_BINARY+ cv2.THRESH_OTSU)\n",
    "\n",
    "        # step3: Convert the Image to a PIL Image, we will use Tesseract to perform OCR on the binary image and extract text from it.\n",
    "        \n",
    "        # Convert OpenCV image (NumPy array) to PIL Image format required by Tesseract\n",
    "        pil_image = Image.fromarray(thresholded)\n",
    "\n",
    "        # Extract text from the image using Tesseract OCR with a specific page segmentation mode\n",
    "        text = ocr.image_to_string(pil_image, config='--psm 11').strip()\n",
    "        \n",
    "        # If text is detected, print it\n",
    "        if text:\n",
    "            print(f\"Detected text:\\n{text}\")\n",
    "\n",
    "        # Display the original frame in a window\n",
    "        cv2.imshow('Camera Feed', frame)\n",
    "\n",
    "\n",
    "        # Break the loop if the 'q' key is pressed\n",
    "        if cv2.waitKey(1) & 0xFF == ord('q'):\n",
    "            print(\"Exiting...\")\n",
    "            break\n",
    "finally:\n",
    "    # Release the camera and close all OpenCV windows\n",
    "    camera.release()\n",
    "    cv2.destroyAllWindows()"
   ]
  },
  {
   "cell_type": "markdown",
   "metadata": {},
   "source": [
    "## Text Detection and Extraction from Image"
   ]
  },
  {
   "cell_type": "code",
   "execution_count": 2,
   "metadata": {},
   "outputs": [
    {
     "name": "stdout",
     "output_type": "stream",
     "text": [
      "Detected text: It was the best of\n",
      "\n",
      "times, it was the worst\n",
      "\n",
      "of times, it was the age\n",
      "\n",
      "of wisdom, it was the\n",
      "\n",
      "age of foolishness...\n"
     ]
    }
   ],
   "source": [
    "img = cv2.imread(\"img.jpeg\")\n",
    "\n",
    "if img is None:\n",
    "    print(\"Error: Could not load image.\")\n",
    "    exit()\n",
    "\n",
    "gray = cv2.cvtColor(img, cv2.COLOR_BGR2GRAY)\n",
    "\n",
    "_, thresholded = cv2.threshold(gray, 0, 255, cv2.THRESH_BINARY +cv2.THRESH_OTSU)\n",
    "\n",
    "pil_image = Image.fromarray(thresholded)\n",
    "\n",
    "text = ocr.image_to_string(pil_image, config='--psm 11').strip()\n",
    "\n",
    "if text:\n",
    "    print(f\"Detected text: {text}\")\n",
    "else:\n",
    "    print(\"No text detected.\")\n",
    "\n",
    "cv2.imshow('Original Image', img)\n",
    "\n",
    "cv2.waitKey(0)\n",
    "cv2.destroyAllWindows()"
   ]
  }
 ],
 "metadata": {
  "kernelspec": {
   "display_name": ".TEXT_EXTRACTION_VENV",
   "language": "python",
   "name": "python3"
  },
  "language_info": {
   "codemirror_mode": {
    "name": "ipython",
    "version": 3
   },
   "file_extension": ".py",
   "mimetype": "text/x-python",
   "name": "python",
   "nbconvert_exporter": "python",
   "pygments_lexer": "ipython3",
   "version": "3.12.5"
  }
 },
 "nbformat": 4,
 "nbformat_minor": 2
}
